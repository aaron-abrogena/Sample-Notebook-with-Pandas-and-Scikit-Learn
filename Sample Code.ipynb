{
 "cells": [
  {
   "cell_type": "markdown",
   "metadata": {},
   "source": [
    "# Sample Code\n",
    "\n",
    "by: Aaron Abrogena\n",
    "\n",
    "made on Asus G55VW, i7-3630QM, 8 gb ram, Geforce GTX 660M"
   ]
  },
  {
   "cell_type": "code",
   "execution_count": 1,
   "metadata": {},
   "outputs": [],
   "source": [
    "#import the necessary packages \n",
    "import pandas as pd \n",
    "import numpy as np\n",
    "import matplotlib.pyplot as plt\n",
    "import seaborn as sns\n",
    "%matplotlib inline"
   ]
  },
  {
   "cell_type": "markdown",
   "metadata": {},
   "source": [
    "## Part A: Read and parse the data"
   ]
  },
  {
   "cell_type": "code",
   "execution_count": 2,
   "metadata": {},
   "outputs": [
    {
     "data": {
      "text/html": [
       "<div>\n",
       "<style scoped>\n",
       "    .dataframe tbody tr th:only-of-type {\n",
       "        vertical-align: middle;\n",
       "    }\n",
       "\n",
       "    .dataframe tbody tr th {\n",
       "        vertical-align: top;\n",
       "    }\n",
       "\n",
       "    .dataframe thead th {\n",
       "        text-align: right;\n",
       "    }\n",
       "</style>\n",
       "<table border=\"1\" class=\"dataframe\">\n",
       "  <thead>\n",
       "    <tr style=\"text-align: right;\">\n",
       "      <th></th>\n",
       "      <th>Year-Month</th>\n",
       "      <th>Agency Number</th>\n",
       "      <th>Agency Name</th>\n",
       "      <th>Cardholder Last Name</th>\n",
       "      <th>Cardholder First Initial</th>\n",
       "      <th>Description</th>\n",
       "      <th>Amount</th>\n",
       "      <th>Vendor</th>\n",
       "      <th>Transaction Date</th>\n",
       "      <th>Posted Date</th>\n",
       "      <th>Merchant Category Code (MCC)</th>\n",
       "    </tr>\n",
       "  </thead>\n",
       "  <tbody>\n",
       "    <tr>\n",
       "      <th>0</th>\n",
       "      <td>201307</td>\n",
       "      <td>1000</td>\n",
       "      <td>OKLAHOMA STATE UNIVERSITY</td>\n",
       "      <td>Mason</td>\n",
       "      <td>C</td>\n",
       "      <td>GENERAL PURCHASE</td>\n",
       "      <td>890.00</td>\n",
       "      <td>NACAS</td>\n",
       "      <td>07/30/2013 12:00:00 AM</td>\n",
       "      <td>07/31/2013 12:00:00 AM</td>\n",
       "      <td>CHARITABLE AND SOCIAL SERVICE ORGANIZATIONS</td>\n",
       "    </tr>\n",
       "    <tr>\n",
       "      <th>1</th>\n",
       "      <td>201307</td>\n",
       "      <td>1000</td>\n",
       "      <td>OKLAHOMA STATE UNIVERSITY</td>\n",
       "      <td>Mason</td>\n",
       "      <td>C</td>\n",
       "      <td>ROOM CHARGES</td>\n",
       "      <td>368.96</td>\n",
       "      <td>SHERATON HOTEL</td>\n",
       "      <td>07/30/2013 12:00:00 AM</td>\n",
       "      <td>07/31/2013 12:00:00 AM</td>\n",
       "      <td>SHERATON</td>\n",
       "    </tr>\n",
       "    <tr>\n",
       "      <th>2</th>\n",
       "      <td>201307</td>\n",
       "      <td>1000</td>\n",
       "      <td>OKLAHOMA STATE UNIVERSITY</td>\n",
       "      <td>Massey</td>\n",
       "      <td>J</td>\n",
       "      <td>GENERAL PURCHASE</td>\n",
       "      <td>165.82</td>\n",
       "      <td>SEARS.COM 9300</td>\n",
       "      <td>07/29/2013 12:00:00 AM</td>\n",
       "      <td>07/31/2013 12:00:00 AM</td>\n",
       "      <td>DIRCT MARKETING/DIRCT MARKETERS--NOT ELSEWHERE...</td>\n",
       "    </tr>\n",
       "    <tr>\n",
       "      <th>3</th>\n",
       "      <td>201307</td>\n",
       "      <td>1000</td>\n",
       "      <td>OKLAHOMA STATE UNIVERSITY</td>\n",
       "      <td>Massey</td>\n",
       "      <td>T</td>\n",
       "      <td>GENERAL PURCHASE</td>\n",
       "      <td>96.39</td>\n",
       "      <td>WAL-MART #0137</td>\n",
       "      <td>07/30/2013 12:00:00 AM</td>\n",
       "      <td>07/31/2013 12:00:00 AM</td>\n",
       "      <td>GROCERY STORES,AND SUPERMARKETS</td>\n",
       "    </tr>\n",
       "    <tr>\n",
       "      <th>4</th>\n",
       "      <td>201307</td>\n",
       "      <td>1000</td>\n",
       "      <td>OKLAHOMA STATE UNIVERSITY</td>\n",
       "      <td>Mauro-Herrera</td>\n",
       "      <td>M</td>\n",
       "      <td>HAMMERMILL COPY PLUS COPY EA</td>\n",
       "      <td>125.96</td>\n",
       "      <td>STAPLES DIRECT</td>\n",
       "      <td>07/30/2013 12:00:00 AM</td>\n",
       "      <td>07/31/2013 12:00:00 AM</td>\n",
       "      <td>STATIONERY, OFFICE SUPPLIES, PRINTING AND WRIT...</td>\n",
       "    </tr>\n",
       "  </tbody>\n",
       "</table>\n",
       "</div>"
      ],
      "text/plain": [
       "   Year-Month  Agency Number                Agency Name Cardholder Last Name  \\\n",
       "0      201307           1000  OKLAHOMA STATE UNIVERSITY                Mason   \n",
       "1      201307           1000  OKLAHOMA STATE UNIVERSITY                Mason   \n",
       "2      201307           1000  OKLAHOMA STATE UNIVERSITY               Massey   \n",
       "3      201307           1000  OKLAHOMA STATE UNIVERSITY               Massey   \n",
       "4      201307           1000  OKLAHOMA STATE UNIVERSITY        Mauro-Herrera   \n",
       "\n",
       "  Cardholder First Initial                   Description  Amount  \\\n",
       "0                        C              GENERAL PURCHASE  890.00   \n",
       "1                        C                  ROOM CHARGES  368.96   \n",
       "2                        J              GENERAL PURCHASE  165.82   \n",
       "3                        T              GENERAL PURCHASE   96.39   \n",
       "4                        M  HAMMERMILL COPY PLUS COPY EA  125.96   \n",
       "\n",
       "           Vendor        Transaction Date             Posted Date  \\\n",
       "0           NACAS  07/30/2013 12:00:00 AM  07/31/2013 12:00:00 AM   \n",
       "1  SHERATON HOTEL  07/30/2013 12:00:00 AM  07/31/2013 12:00:00 AM   \n",
       "2  SEARS.COM 9300  07/29/2013 12:00:00 AM  07/31/2013 12:00:00 AM   \n",
       "3  WAL-MART #0137  07/30/2013 12:00:00 AM  07/31/2013 12:00:00 AM   \n",
       "4  STAPLES DIRECT  07/30/2013 12:00:00 AM  07/31/2013 12:00:00 AM   \n",
       "\n",
       "                        Merchant Category Code (MCC)  \n",
       "0        CHARITABLE AND SOCIAL SERVICE ORGANIZATIONS  \n",
       "1                                           SHERATON  \n",
       "2  DIRCT MARKETING/DIRCT MARKETERS--NOT ELSEWHERE...  \n",
       "3                    GROCERY STORES,AND SUPERMARKETS  \n",
       "4  STATIONERY, OFFICE SUPPLIES, PRINTING AND WRIT...  "
      ]
     },
     "execution_count": 2,
     "metadata": {},
     "output_type": "execute_result"
    }
   ],
   "source": [
    "#Read the CSV and see what the data looks like\n",
    "df = pd.read_csv('C:/Users/aaron/Downloads/res_purchase_card_(pcard)_fiscal_year_2014_3pcd-aiuu.csv')\n",
    "df.head()"
   ]
  },
  {
   "cell_type": "code",
   "execution_count": 3,
   "metadata": {},
   "outputs": [
    {
     "data": {
      "text/plain": [
       "(442458, 11)"
      ]
     },
     "execution_count": 3,
     "metadata": {},
     "output_type": "execute_result"
    }
   ],
   "source": [
    "#How many rows and columns are in the data set?\n",
    "df.shape"
   ]
  },
  {
   "cell_type": "code",
   "execution_count": 4,
   "metadata": {},
   "outputs": [
    {
     "data": {
      "text/plain": [
       "Year-Month                        int64\n",
       "Agency Number                     int64\n",
       "Agency Name                      object\n",
       "Cardholder Last Name             object\n",
       "Cardholder First Initial         object\n",
       "Description                      object\n",
       "Amount                          float64\n",
       "Vendor                           object\n",
       "Transaction Date                 object\n",
       "Posted Date                      object\n",
       "Merchant Category Code (MCC)     object\n",
       "dtype: object"
      ]
     },
     "execution_count": 4,
     "metadata": {},
     "output_type": "execute_result"
    }
   ],
   "source": [
    "#What are the dtypes?\n",
    "df.dtypes"
   ]
  },
  {
   "cell_type": "markdown",
   "metadata": {},
   "source": [
    "The two date columns are read as `object` type and not `date`"
   ]
  },
  {
   "cell_type": "code",
   "execution_count": 5,
   "metadata": {},
   "outputs": [
    {
     "data": {
      "text/html": [
       "<div>\n",
       "<style scoped>\n",
       "    .dataframe tbody tr th:only-of-type {\n",
       "        vertical-align: middle;\n",
       "    }\n",
       "\n",
       "    .dataframe tbody tr th {\n",
       "        vertical-align: top;\n",
       "    }\n",
       "\n",
       "    .dataframe thead th {\n",
       "        text-align: right;\n",
       "    }\n",
       "</style>\n",
       "<table border=\"1\" class=\"dataframe\">\n",
       "  <thead>\n",
       "    <tr style=\"text-align: right;\">\n",
       "      <th></th>\n",
       "      <th>Year-Month</th>\n",
       "      <th>Agency Number</th>\n",
       "      <th>Agency Name</th>\n",
       "      <th>Cardholder Last Name</th>\n",
       "      <th>Cardholder First Initial</th>\n",
       "      <th>Description</th>\n",
       "      <th>Amount</th>\n",
       "      <th>Vendor</th>\n",
       "      <th>Transaction Date</th>\n",
       "      <th>Posted Date</th>\n",
       "      <th>Merchant Category Code (MCC)</th>\n",
       "    </tr>\n",
       "  </thead>\n",
       "  <tbody>\n",
       "  </tbody>\n",
       "</table>\n",
       "</div>"
      ],
      "text/plain": [
       "Empty DataFrame\n",
       "Columns: [Year-Month, Agency Number, Agency Name, Cardholder Last Name, Cardholder First Initial, Description, Amount, Vendor, Transaction Date, Posted Date, Merchant Category Code (MCC)]\n",
       "Index: []"
      ]
     },
     "execution_count": 5,
     "metadata": {},
     "output_type": "execute_result"
    }
   ],
   "source": [
    "#Find any rows with null values\n",
    "df[df.isnull().any(axis=1)]"
   ]
  },
  {
   "cell_type": "code",
   "execution_count": 6,
   "metadata": {},
   "outputs": [
    {
     "data": {
      "text/plain": [
       "88749"
      ]
     },
     "execution_count": 6,
     "metadata": {},
     "output_type": "execute_result"
    }
   ],
   "source": [
    "#How many descriptions are there?\n",
    "df.Description.nunique()"
   ]
  },
  {
   "cell_type": "code",
   "execution_count": 7,
   "metadata": {},
   "outputs": [
    {
     "data": {
      "text/plain": [
       "GENERAL PURCHASE                 0.558668\n",
       "AIR TRAVEL                       0.066863\n",
       "ROOM CHARGES                     0.040953\n",
       "AT&T SERVICE PAYMENT ITM         0.006005\n",
       "001 Priority          1LB PCE    0.004532\n",
       "000000000000000000000000         0.004131\n",
       "PRODUCTS AND SERVICES EA         0.002857\n",
       "SHIPPING CHARGES                 0.002735\n",
       "001 Standard          1LB PCE    0.001668\n",
       "JANITORIAL SUPPLIES NMB          0.001449\n",
       "Name: Description, dtype: float64"
      ]
     },
     "execution_count": 7,
     "metadata": {},
     "output_type": "execute_result"
    }
   ],
   "source": [
    "#What are the top 10 descriptions?\n",
    "df.Description.value_counts(10).head(10)"
   ]
  },
  {
   "cell_type": "markdown",
   "metadata": {},
   "source": [
    "56% of purchases are described as General Purchase while 10% are Travel related charges (Air Travel & Room Charges)"
   ]
  },
  {
   "cell_type": "code",
   "execution_count": 8,
   "metadata": {},
   "outputs": [
    {
     "data": {
      "text/plain": [
       "86729"
      ]
     },
     "execution_count": 8,
     "metadata": {},
     "output_type": "execute_result"
    }
   ],
   "source": [
    "#How many Vendors are there?\n",
    "df.Vendor.nunique()"
   ]
  },
  {
   "cell_type": "markdown",
   "metadata": {},
   "source": [
    "There are almost as many Vendors as there are Descriptions"
   ]
  },
  {
   "cell_type": "code",
   "execution_count": 9,
   "metadata": {},
   "outputs": [
    {
     "data": {
      "text/plain": [
       "STAPLES                      0.033544\n",
       "AMAZON MKTPLACE PMTS         0.027566\n",
       "WW GRAINGER                  0.027293\n",
       "Amazon.com                   0.024332\n",
       "BILL WARREN OFFICE PRODUC    0.010123\n",
       "LOWES #00241                 0.009562\n",
       "VWR INTERNATIONAL INC        0.008842\n",
       "AT&T BILL PAYMENT            0.006925\n",
       "AIRGAS CENTRAL               0.006062\n",
       "AT&T DATA                    0.005926\n",
       "Name: Vendor, dtype: float64"
      ]
     },
     "execution_count": 9,
     "metadata": {},
     "output_type": "execute_result"
    }
   ],
   "source": [
    "#What are the top 10 vendors?\n",
    "df.Vendor.value_counts(10).head(10)"
   ]
  },
  {
   "attachments": {
    "image.png": {
     "image/png": "[encoded data removed]"
    }
   },
   "cell_type": "markdown",
   "metadata": {},
   "source": [
    "There doesn't seem to be a concentration on a single vendor like there is in Descriptions. However, we can see that Amazon and AT&T appear a couple of times in the list. It may be worthwhile to perform some clustering on the Vendor column to find major vendors. There are many ways to do this which may include reading all combinations of `Vendor` and using a map function or using python packages like `Polyglot` which can be used to cluster text however some training may still need to be done.  \n",
    "\n",
    "In the interest of time, I elected to use `OpenRefine` which is a powerful data cleaning tool that has built in text clustering functions. More can be read here http://openrefine.org/ There are ways of integrating `OpenRefine` to a Jupyter Notebook (documented here https://github.com/OpenRefine/OpenRefine/wiki/Jupyter) but again in the interest of time, I elected to use the GUI as seen below. ![image.png](attachment:image.png)\n",
    "\n",
    "I will be using this software in order to cluster the `Description` and `Vendor` columns. \n"
   ]
  },
  {
   "cell_type": "code",
   "execution_count": 10,
   "metadata": {},
   "outputs": [
    {
     "data": {
      "text/html": [
       "<div>\n",
       "<style scoped>\n",
       "    .dataframe tbody tr th:only-of-type {\n",
       "        vertical-align: middle;\n",
       "    }\n",
       "\n",
       "    .dataframe tbody tr th {\n",
       "        vertical-align: top;\n",
       "    }\n",
       "\n",
       "    .dataframe thead th {\n",
       "        text-align: right;\n",
       "    }\n",
       "</style>\n",
       "<table border=\"1\" class=\"dataframe\">\n",
       "  <thead>\n",
       "    <tr style=\"text-align: right;\">\n",
       "      <th></th>\n",
       "      <th>Year-Month</th>\n",
       "      <th>Agency Number</th>\n",
       "      <th>Agency Name</th>\n",
       "      <th>Cardholder Last Name</th>\n",
       "      <th>Cardholder First Initial</th>\n",
       "      <th>Description</th>\n",
       "      <th>Amount</th>\n",
       "      <th>Vendor</th>\n",
       "      <th>Transaction Date</th>\n",
       "      <th>Posted Date</th>\n",
       "      <th>Merchant Category Code (MCC)</th>\n",
       "    </tr>\n",
       "  </thead>\n",
       "  <tbody>\n",
       "    <tr>\n",
       "      <th>0</th>\n",
       "      <td>201307</td>\n",
       "      <td>1000</td>\n",
       "      <td>OKLAHOMA STATE UNIVERSITY</td>\n",
       "      <td>Mason</td>\n",
       "      <td>C</td>\n",
       "      <td>GENERAL PURCHASE</td>\n",
       "      <td>890.00</td>\n",
       "      <td>NACAS</td>\n",
       "      <td>2013-07-30</td>\n",
       "      <td>2013-07-31</td>\n",
       "      <td>CHARITABLE AND SOCIAL SERVICE ORGANIZATIONS</td>\n",
       "    </tr>\n",
       "    <tr>\n",
       "      <th>1</th>\n",
       "      <td>201307</td>\n",
       "      <td>1000</td>\n",
       "      <td>OKLAHOMA STATE UNIVERSITY</td>\n",
       "      <td>Mason</td>\n",
       "      <td>C</td>\n",
       "      <td>ROOM CHARGES</td>\n",
       "      <td>368.96</td>\n",
       "      <td>SHERATON HOTEL</td>\n",
       "      <td>2013-07-30</td>\n",
       "      <td>2013-07-31</td>\n",
       "      <td>SHERATON</td>\n",
       "    </tr>\n",
       "    <tr>\n",
       "      <th>2</th>\n",
       "      <td>201307</td>\n",
       "      <td>1000</td>\n",
       "      <td>OKLAHOMA STATE UNIVERSITY</td>\n",
       "      <td>Massey</td>\n",
       "      <td>J</td>\n",
       "      <td>GENERAL PURCHASE</td>\n",
       "      <td>165.82</td>\n",
       "      <td>SEARS.COM 9300</td>\n",
       "      <td>2013-07-29</td>\n",
       "      <td>2013-07-31</td>\n",
       "      <td>DIRCT MARKETING/DIRCT MARKETERS--NOT ELSEWHERE...</td>\n",
       "    </tr>\n",
       "    <tr>\n",
       "      <th>3</th>\n",
       "      <td>201307</td>\n",
       "      <td>1000</td>\n",
       "      <td>OKLAHOMA STATE UNIVERSITY</td>\n",
       "      <td>Massey</td>\n",
       "      <td>T</td>\n",
       "      <td>GENERAL PURCHASE</td>\n",
       "      <td>96.39</td>\n",
       "      <td>WAL-MART</td>\n",
       "      <td>2013-07-30</td>\n",
       "      <td>2013-07-31</td>\n",
       "      <td>GROCERY STORES,AND SUPERMARKETS</td>\n",
       "    </tr>\n",
       "    <tr>\n",
       "      <th>4</th>\n",
       "      <td>201307</td>\n",
       "      <td>1000</td>\n",
       "      <td>OKLAHOMA STATE UNIVERSITY</td>\n",
       "      <td>Mauro-Herrera</td>\n",
       "      <td>M</td>\n",
       "      <td>HAMMERMILL COPY PLUS COPY EA</td>\n",
       "      <td>125.96</td>\n",
       "      <td>STAPLES DIRECT</td>\n",
       "      <td>2013-07-30</td>\n",
       "      <td>2013-07-31</td>\n",
       "      <td>STATIONERY, OFFICE SUPPLIES, PRINTING AND WRIT...</td>\n",
       "    </tr>\n",
       "  </tbody>\n",
       "</table>\n",
       "</div>"
      ],
      "text/plain": [
       "   Year-Month  Agency Number                Agency Name Cardholder Last Name  \\\n",
       "0      201307           1000  OKLAHOMA STATE UNIVERSITY                Mason   \n",
       "1      201307           1000  OKLAHOMA STATE UNIVERSITY                Mason   \n",
       "2      201307           1000  OKLAHOMA STATE UNIVERSITY               Massey   \n",
       "3      201307           1000  OKLAHOMA STATE UNIVERSITY               Massey   \n",
       "4      201307           1000  OKLAHOMA STATE UNIVERSITY        Mauro-Herrera   \n",
       "\n",
       "  Cardholder First Initial                   Description  Amount  \\\n",
       "0                        C              GENERAL PURCHASE  890.00   \n",
       "1                        C                  ROOM CHARGES  368.96   \n",
       "2                        J              GENERAL PURCHASE  165.82   \n",
       "3                        T              GENERAL PURCHASE   96.39   \n",
       "4                        M  HAMMERMILL COPY PLUS COPY EA  125.96   \n",
       "\n",
       "           Vendor Transaction Date Posted Date  \\\n",
       "0           NACAS       2013-07-30  2013-07-31   \n",
       "1  SHERATON HOTEL       2013-07-30  2013-07-31   \n",
       "2  SEARS.COM 9300       2013-07-29  2013-07-31   \n",
       "3        WAL-MART       2013-07-30  2013-07-31   \n",
       "4  STAPLES DIRECT       2013-07-30  2013-07-31   \n",
       "\n",
       "                        Merchant Category Code (MCC)  \n",
       "0        CHARITABLE AND SOCIAL SERVICE ORGANIZATIONS  \n",
       "1                                           SHERATON  \n",
       "2  DIRCT MARKETING/DIRCT MARKETERS--NOT ELSEWHERE...  \n",
       "3                    GROCERY STORES,AND SUPERMARKETS  \n",
       "4  STATIONERY, OFFICE SUPPLIES, PRINTING AND WRIT...  "
      ]
     },
     "execution_count": 10,
     "metadata": {},
     "output_type": "execute_result"
    }
   ],
   "source": [
    "#reread the fixed data and overwrite the older dataframe\n",
    "#assert the dtype for the date columns\n",
    "df = pd.read_csv('C:/Users/aaron/Downloads/fixed_card_data.csv',parse_dates=['Posted Date', 'Transaction Date'])\n",
    "df.head()"
   ]
  },
  {
   "cell_type": "code",
   "execution_count": 11,
   "metadata": {},
   "outputs": [
    {
     "data": {
      "text/plain": [
       "Year-Month                               int64\n",
       "Agency Number                            int64\n",
       "Agency Name                             object\n",
       "Cardholder Last Name                    object\n",
       "Cardholder First Initial                object\n",
       "Description                             object\n",
       "Amount                                 float64\n",
       "Vendor                                  object\n",
       "Transaction Date                datetime64[ns]\n",
       "Posted Date                     datetime64[ns]\n",
       "Merchant Category Code (MCC)            object\n",
       "dtype: object"
      ]
     },
     "execution_count": 11,
     "metadata": {},
     "output_type": "execute_result"
    }
   ],
   "source": [
    "#Check the dtype of the new dataframe\n",
    "df.dtypes"
   ]
  },
  {
   "cell_type": "code",
   "execution_count": 12,
   "metadata": {},
   "outputs": [
    {
     "data": {
      "text/plain": [
       "70886"
      ]
     },
     "execution_count": 12,
     "metadata": {},
     "output_type": "execute_result"
    }
   ],
   "source": [
    "#How many Descriptions are there?\n",
    "df.Description.nunique()"
   ]
  },
  {
   "cell_type": "markdown",
   "metadata": {},
   "source": [
    "There are slightly less Descriptions now"
   ]
  },
  {
   "cell_type": "code",
   "execution_count": 13,
   "metadata": {},
   "outputs": [
    {
     "data": {
      "text/plain": [
       "GENERAL PURCHASE                                      0.558668\n",
       "AIR TRAVEL                                            0.066863\n",
       "ROOM CHARGES                                          0.040953\n",
       "00070509 ITM                                          0.012132\n",
       "AT&T SERVICE PAYMENT ITM                              0.006005\n",
       "001 Priority          1LB PCE                         0.005365\n",
       "000000000000000000000000                              0.005015\n",
       "SHIPPING-FUEL SURCHARGE EA|AMICON ULTRA-15ML 3K PK    0.003646\n",
       "PRODUCTS AND SERVICES EA                              0.003408\n",
       "SHIPPING CHARGES                                      0.002735\n",
       "Name: Description, dtype: float64"
      ]
     },
     "execution_count": 13,
     "metadata": {},
     "output_type": "execute_result"
    }
   ],
   "source": [
    "#What are the top 10 Descriptions?\n",
    "df.Description.value_counts(10).head(10)"
   ]
  },
  {
   "cell_type": "code",
   "execution_count": 14,
   "metadata": {},
   "outputs": [
    {
     "data": {
      "text/plain": [
       "29276"
      ]
     },
     "execution_count": 14,
     "metadata": {},
     "output_type": "execute_result"
    }
   ],
   "source": [
    "#How many Vendors are there?\n",
    "df.Vendor.nunique()"
   ]
  },
  {
   "cell_type": "code",
   "execution_count": 15,
   "metadata": {},
   "outputs": [
    {
     "data": {
      "text/plain": [
       "Amazon                       0.053610\n",
       "STAPLES                      0.045469\n",
       "WW GRAINGER                  0.027293\n",
       "AMERICAN AI                  0.027166\n",
       "WAL-MART                     0.026778\n",
       "LOWES #00241                 0.023155\n",
       "FEDEX                        0.018451\n",
       "AGENT FEE   8900591802005    0.013924\n",
       "JOURNYHSE                    0.011402\n",
       "BILL WARREN OFFICE PRODUC    0.010123\n",
       "Name: Vendor, dtype: float64"
      ]
     },
     "execution_count": 15,
     "metadata": {},
     "output_type": "execute_result"
    }
   ],
   "source": [
    "df.Vendor.value_counts(10).head(10)"
   ]
  },
  {
   "cell_type": "markdown",
   "metadata": {},
   "source": [
    "We can see that popular shopping brands make up the top 10 Vendors with `Amazon` taking the top spot. Purchases related to Amazon (Amazon Prime, Amazon Web Services, Amazon Kindle) take up 1 out of every 20 purchases in 2014."
   ]
  },
  {
   "cell_type": "markdown",
   "metadata": {},
   "source": [
    "# Part B: Compute and Visualize the Data"
   ]
  },
  {
   "cell_type": "code",
   "execution_count": 16,
   "metadata": {},
   "outputs": [
    {
     "data": {
      "text/plain": [
       "array([[<matplotlib.axes._subplots.AxesSubplot object at 0x0000028871743518>]],\n",
       "      dtype=object)"
      ]
     },
     "execution_count": 16,
     "metadata": {},
     "output_type": "execute_result"
    },
    {
     "data": {
      "image/png": "[encoded data removed]",
      "text/plain": [
       "<Figure size 432x288 with 1 Axes>"
      ]
     },
     "metadata": {
      "needs_background": "light"
     },
     "output_type": "display_data"
    }
   ],
   "source": [
    "#Compute and Visualize the amounts as a histogram\n",
    "#The simplest way to do this is to use the function df.hist()\n",
    "df.hist('Amount')"
   ]
  },
  {
   "cell_type": "code",
   "execution_count": 17,
   "metadata": {},
   "outputs": [
    {
     "name": "stderr",
     "output_type": "stream",
     "text": [
      "C:\\Users\\aaron\\Anaconda3\\lib\\site-packages\\ipykernel_launcher.py:2: RuntimeWarning: invalid value encountered in log10\n",
      "  \n"
     ]
    },
    {
     "data": {
      "text/plain": [
       "<matplotlib.axes._subplots.AxesSubplot at 0x28870c45748>"
      ]
     },
     "execution_count": 17,
     "metadata": {},
     "output_type": "execute_result"
    },
    {
     "data": {
      "image/png": "[encoded data removed]",
      "text/plain": [
       "<Figure size 432x288 with 1 Axes>"
      ]
     },
     "metadata": {
      "needs_background": "light"
     },
     "output_type": "display_data"
    }
   ],
   "source": [
    "#However we can only see one bar with the simple method. We can apply a log function in order to see the data better\n",
    "np.log10(df.Amount).hist()"
   ]
  },
  {
   "cell_type": "markdown",
   "metadata": {},
   "source": [
    "Here we can see that most of the transactions have an amount between 10 ^ 1 and 10 ^ 3 dollars"
   ]
  },
  {
   "cell_type": "code",
   "execution_count": 18,
   "metadata": {},
   "outputs": [
    {
     "name": "stderr",
     "output_type": "stream",
     "text": [
      "C:\\Users\\aaron\\Anaconda3\\lib\\site-packages\\ipykernel_launcher.py:2: RuntimeWarning: invalid value encountered in log10\n",
      "  \n"
     ]
    },
    {
     "data": {
      "text/plain": [
       "<matplotlib.axes._subplots.AxesSubplot at 0x28871743080>"
      ]
     },
     "execution_count": 18,
     "metadata": {},
     "output_type": "execute_result"
    },
    {
     "data": {
      "image/png": "[encoded data removed]",
      "text/plain": [
       "<Figure size 432x288 with 1 Axes>"
      ]
     },
     "metadata": {
      "needs_background": "light"
     },
     "output_type": "display_data"
    }
   ],
   "source": [
    "#Adding more bins adds more information gain\n",
    "np.log10(df.Amount).hist(bins=100)"
   ]
  },
  {
   "cell_type": "markdown",
   "metadata": {},
   "source": [
    "Here we can see that the amounts are almost normally distributed with some spikes at around ~10 dollars. "
   ]
  },
  {
   "cell_type": "markdown",
   "metadata": {},
   "source": [
    "# In order to create an identifier for each individual card holder, we will create a column that combines first name and last name and agency number.\n",
    "\n",
    "Since we have only first initial and last name of the cardholder -- it would be difficult for us to manage any duplicates. We can add the agency number in order add a degree of surety but it isn't a fool proof way of creating a unique identifier.\n"
   ]
  },
  {
   "cell_type": "code",
   "execution_count": 19,
   "metadata": {},
   "outputs": [
    {
     "data": {
      "text/plain": [
       "0            CMason1000\n",
       "1            CMason1000\n",
       "2           JMassey1000\n",
       "3           TMassey1000\n",
       "4    MMauro-Herrera1000\n",
       "Name: unique identifier, dtype: object"
      ]
     },
     "execution_count": 19,
     "metadata": {},
     "output_type": "execute_result"
    }
   ],
   "source": [
    "df['unique identifier'] = df['Cardholder First Initial'].map(str) + df['Cardholder Last Name'].map(str) + df['Agency Number'].map(str)\n",
    "df['unique identifier'].head()"
   ]
  },
  {
   "cell_type": "code",
   "execution_count": 20,
   "metadata": {},
   "outputs": [
    {
     "data": {
      "text/plain": [
       "5466"
      ]
     },
     "execution_count": 20,
     "metadata": {},
     "output_type": "execute_result"
    }
   ],
   "source": [
    "#How many unique users to we have?\n",
    "df['unique identifier'].nunique()"
   ]
  },
  {
   "cell_type": "code",
   "execution_count": 21,
   "metadata": {},
   "outputs": [
    {
     "data": {
      "text/plain": [
       "unique identifier  Year-Month\n",
       "eCardholder98000   201310        3492295.03\n",
       "                   201404        2292435.58\n",
       "                   201403        2030185.77\n",
       "77700077000        201309        1903858.37\n",
       "                   201308        1750379.98\n",
       "Name: Amount, dtype: float64"
      ]
     },
     "execution_count": 21,
     "metadata": {},
     "output_type": "execute_result"
    }
   ],
   "source": [
    "#To get the top 5 users by monthly spending -- simply group by unique identifier and year month and sum total their transactions\n",
    "df.groupby(['unique identifier', 'Year-Month'])['Amount'].sum().sort_values(ascending=False).head(5)"
   ]
  },
  {
   "cell_type": "code",
   "execution_count": 22,
   "metadata": {},
   "outputs": [
    {
     "data": {
      "text/html": [
       "<div>\n",
       "<style scoped>\n",
       "    .dataframe tbody tr th:only-of-type {\n",
       "        vertical-align: middle;\n",
       "    }\n",
       "\n",
       "    .dataframe tbody tr th {\n",
       "        vertical-align: top;\n",
       "    }\n",
       "\n",
       "    .dataframe thead th {\n",
       "        text-align: right;\n",
       "    }\n",
       "</style>\n",
       "<table border=\"1\" class=\"dataframe\">\n",
       "  <thead>\n",
       "    <tr style=\"text-align: right;\">\n",
       "      <th></th>\n",
       "      <th>Year-Month</th>\n",
       "      <th>Agency Number</th>\n",
       "      <th>Agency Name</th>\n",
       "      <th>Cardholder Last Name</th>\n",
       "      <th>Cardholder First Initial</th>\n",
       "      <th>Description</th>\n",
       "      <th>Amount</th>\n",
       "      <th>Vendor</th>\n",
       "      <th>Transaction Date</th>\n",
       "      <th>Posted Date</th>\n",
       "      <th>Merchant Category Code (MCC)</th>\n",
       "      <th>unique identifier</th>\n",
       "      <th>Quarter</th>\n",
       "    </tr>\n",
       "  </thead>\n",
       "  <tbody>\n",
       "    <tr>\n",
       "      <th>0</th>\n",
       "      <td>201307</td>\n",
       "      <td>1000</td>\n",
       "      <td>OKLAHOMA STATE UNIVERSITY</td>\n",
       "      <td>Mason</td>\n",
       "      <td>C</td>\n",
       "      <td>GENERAL PURCHASE</td>\n",
       "      <td>890.00</td>\n",
       "      <td>NACAS</td>\n",
       "      <td>2013-07-30</td>\n",
       "      <td>2013-07-31</td>\n",
       "      <td>CHARITABLE AND SOCIAL SERVICE ORGANIZATIONS</td>\n",
       "      <td>CMason1000</td>\n",
       "      <td>Quarter 1</td>\n",
       "    </tr>\n",
       "    <tr>\n",
       "      <th>1</th>\n",
       "      <td>201307</td>\n",
       "      <td>1000</td>\n",
       "      <td>OKLAHOMA STATE UNIVERSITY</td>\n",
       "      <td>Mason</td>\n",
       "      <td>C</td>\n",
       "      <td>ROOM CHARGES</td>\n",
       "      <td>368.96</td>\n",
       "      <td>SHERATON HOTEL</td>\n",
       "      <td>2013-07-30</td>\n",
       "      <td>2013-07-31</td>\n",
       "      <td>SHERATON</td>\n",
       "      <td>CMason1000</td>\n",
       "      <td>Quarter 1</td>\n",
       "    </tr>\n",
       "    <tr>\n",
       "      <th>2</th>\n",
       "      <td>201307</td>\n",
       "      <td>1000</td>\n",
       "      <td>OKLAHOMA STATE UNIVERSITY</td>\n",
       "      <td>Massey</td>\n",
       "      <td>J</td>\n",
       "      <td>GENERAL PURCHASE</td>\n",
       "      <td>165.82</td>\n",
       "      <td>SEARS.COM 9300</td>\n",
       "      <td>2013-07-29</td>\n",
       "      <td>2013-07-31</td>\n",
       "      <td>DIRCT MARKETING/DIRCT MARKETERS--NOT ELSEWHERE...</td>\n",
       "      <td>JMassey1000</td>\n",
       "      <td>Quarter 1</td>\n",
       "    </tr>\n",
       "    <tr>\n",
       "      <th>3</th>\n",
       "      <td>201307</td>\n",
       "      <td>1000</td>\n",
       "      <td>OKLAHOMA STATE UNIVERSITY</td>\n",
       "      <td>Massey</td>\n",
       "      <td>T</td>\n",
       "      <td>GENERAL PURCHASE</td>\n",
       "      <td>96.39</td>\n",
       "      <td>WAL-MART</td>\n",
       "      <td>2013-07-30</td>\n",
       "      <td>2013-07-31</td>\n",
       "      <td>GROCERY STORES,AND SUPERMARKETS</td>\n",
       "      <td>TMassey1000</td>\n",
       "      <td>Quarter 1</td>\n",
       "    </tr>\n",
       "    <tr>\n",
       "      <th>4</th>\n",
       "      <td>201307</td>\n",
       "      <td>1000</td>\n",
       "      <td>OKLAHOMA STATE UNIVERSITY</td>\n",
       "      <td>Mauro-Herrera</td>\n",
       "      <td>M</td>\n",
       "      <td>HAMMERMILL COPY PLUS COPY EA</td>\n",
       "      <td>125.96</td>\n",
       "      <td>STAPLES DIRECT</td>\n",
       "      <td>2013-07-30</td>\n",
       "      <td>2013-07-31</td>\n",
       "      <td>STATIONERY, OFFICE SUPPLIES, PRINTING AND WRIT...</td>\n",
       "      <td>MMauro-Herrera1000</td>\n",
       "      <td>Quarter 1</td>\n",
       "    </tr>\n",
       "  </tbody>\n",
       "</table>\n",
       "</div>"
      ],
      "text/plain": [
       "   Year-Month  Agency Number                Agency Name Cardholder Last Name  \\\n",
       "0      201307           1000  OKLAHOMA STATE UNIVERSITY                Mason   \n",
       "1      201307           1000  OKLAHOMA STATE UNIVERSITY                Mason   \n",
       "2      201307           1000  OKLAHOMA STATE UNIVERSITY               Massey   \n",
       "3      201307           1000  OKLAHOMA STATE UNIVERSITY               Massey   \n",
       "4      201307           1000  OKLAHOMA STATE UNIVERSITY        Mauro-Herrera   \n",
       "\n",
       "  Cardholder First Initial                   Description  Amount  \\\n",
       "0                        C              GENERAL PURCHASE  890.00   \n",
       "1                        C                  ROOM CHARGES  368.96   \n",
       "2                        J              GENERAL PURCHASE  165.82   \n",
       "3                        T              GENERAL PURCHASE   96.39   \n",
       "4                        M  HAMMERMILL COPY PLUS COPY EA  125.96   \n",
       "\n",
       "           Vendor Transaction Date Posted Date  \\\n",
       "0           NACAS       2013-07-30  2013-07-31   \n",
       "1  SHERATON HOTEL       2013-07-30  2013-07-31   \n",
       "2  SEARS.COM 9300       2013-07-29  2013-07-31   \n",
       "3        WAL-MART       2013-07-30  2013-07-31   \n",
       "4  STAPLES DIRECT       2013-07-30  2013-07-31   \n",
       "\n",
       "                        Merchant Category Code (MCC)   unique identifier  \\\n",
       "0        CHARITABLE AND SOCIAL SERVICE ORGANIZATIONS          CMason1000   \n",
       "1                                           SHERATON          CMason1000   \n",
       "2  DIRCT MARKETING/DIRCT MARKETERS--NOT ELSEWHERE...         JMassey1000   \n",
       "3                    GROCERY STORES,AND SUPERMARKETS         TMassey1000   \n",
       "4  STATIONERY, OFFICE SUPPLIES, PRINTING AND WRIT...  MMauro-Herrera1000   \n",
       "\n",
       "     Quarter  \n",
       "0  Quarter 1  \n",
       "1  Quarter 1  \n",
       "2  Quarter 1  \n",
       "3  Quarter 1  \n",
       "4  Quarter 1  "
      ]
     },
     "execution_count": 22,
     "metadata": {},
     "output_type": "execute_result"
    }
   ],
   "source": [
    "#To create a custom definition quarter, we can create a column called Quarter and simply map the months to it\n",
    "month_map = {'201307': 'Quarter 1',\n",
    "            '201308': 'Quarter 1',\n",
    "            '201309': 'Quarter 1',\n",
    "            '201310': 'Quarter 2',\n",
    "            '201311': 'Quarter 2',\n",
    "            '201312': 'Quarter 2',\n",
    "            '201401': 'Quarter 3',\n",
    "            '201402': 'Quarter 3',\n",
    "            '201403': 'Quarter 3',\n",
    "            '201404': 'Quarter 4',\n",
    "            '201405': 'Quarter 4',\n",
    "            '201406': 'Quarter 4'}\n",
    "df['Quarter'] = df['Year-Month'].astype(str).map(month_map)\n",
    "df.head()"
   ]
  },
  {
   "cell_type": "code",
   "execution_count": 23,
   "metadata": {},
   "outputs": [
    {
     "name": "stderr",
     "output_type": "stream",
     "text": [
      "C:\\Users\\aaron\\Anaconda3\\lib\\site-packages\\ipykernel_launcher.py:2: FutureWarning: 'Vendor' is both an index level and a column label.\n",
      "Defaulting to column, but this will raise an ambiguity error in a future version\n",
      "  \n"
     ]
    },
    {
     "data": {
      "text/html": [
       "<div>\n",
       "<style scoped>\n",
       "    .dataframe tbody tr th:only-of-type {\n",
       "        vertical-align: middle;\n",
       "    }\n",
       "\n",
       "    .dataframe tbody tr th {\n",
       "        vertical-align: top;\n",
       "    }\n",
       "\n",
       "    .dataframe thead th {\n",
       "        text-align: right;\n",
       "    }\n",
       "</style>\n",
       "<table border=\"1\" class=\"dataframe\">\n",
       "  <thead>\n",
       "    <tr style=\"text-align: right;\">\n",
       "      <th></th>\n",
       "      <th></th>\n",
       "      <th>Vendor</th>\n",
       "    </tr>\n",
       "    <tr>\n",
       "      <th>Quarter</th>\n",
       "      <th>Vendor</th>\n",
       "      <th></th>\n",
       "    </tr>\n",
       "  </thead>\n",
       "  <tbody>\n",
       "    <tr>\n",
       "      <th rowspan=\"5\" valign=\"top\">Quarter 4</th>\n",
       "      <th>Amazon</th>\n",
       "      <td>6476</td>\n",
       "    </tr>\n",
       "    <tr>\n",
       "      <th>STAPLES</th>\n",
       "      <td>4452</td>\n",
       "    </tr>\n",
       "    <tr>\n",
       "      <th>LOWES #00241</th>\n",
       "      <td>2958</td>\n",
       "    </tr>\n",
       "    <tr>\n",
       "      <th>AMERICAN AI</th>\n",
       "      <td>2830</td>\n",
       "    </tr>\n",
       "    <tr>\n",
       "      <th>WW GRAINGER</th>\n",
       "      <td>2678</td>\n",
       "    </tr>\n",
       "    <tr>\n",
       "      <th rowspan=\"5\" valign=\"top\">Quarter 3</th>\n",
       "      <th>Amazon</th>\n",
       "      <td>6237</td>\n",
       "    </tr>\n",
       "    <tr>\n",
       "      <th>STAPLES</th>\n",
       "      <td>5296</td>\n",
       "    </tr>\n",
       "    <tr>\n",
       "      <th>AMERICAN AI</th>\n",
       "      <td>3824</td>\n",
       "    </tr>\n",
       "    <tr>\n",
       "      <th>WW GRAINGER</th>\n",
       "      <td>2918</td>\n",
       "    </tr>\n",
       "    <tr>\n",
       "      <th>WAL-MART</th>\n",
       "      <td>2856</td>\n",
       "    </tr>\n",
       "    <tr>\n",
       "      <th rowspan=\"5\" valign=\"top\">Quarter 2</th>\n",
       "      <th>STAPLES</th>\n",
       "      <td>5023</td>\n",
       "    </tr>\n",
       "    <tr>\n",
       "      <th>Amazon</th>\n",
       "      <td>4895</td>\n",
       "    </tr>\n",
       "    <tr>\n",
       "      <th>WAL-MART</th>\n",
       "      <td>3363</td>\n",
       "    </tr>\n",
       "    <tr>\n",
       "      <th>WW GRAINGER</th>\n",
       "      <td>2913</td>\n",
       "    </tr>\n",
       "    <tr>\n",
       "      <th>AMERICAN AI</th>\n",
       "      <td>2354</td>\n",
       "    </tr>\n",
       "    <tr>\n",
       "      <th rowspan=\"5\" valign=\"top\">Quarter 1</th>\n",
       "      <th>Amazon</th>\n",
       "      <td>6112</td>\n",
       "    </tr>\n",
       "    <tr>\n",
       "      <th>STAPLES</th>\n",
       "      <td>5347</td>\n",
       "    </tr>\n",
       "    <tr>\n",
       "      <th>WAL-MART</th>\n",
       "      <td>3710</td>\n",
       "    </tr>\n",
       "    <tr>\n",
       "      <th>WW GRAINGER</th>\n",
       "      <td>3567</td>\n",
       "    </tr>\n",
       "    <tr>\n",
       "      <th>AMERICAN AI</th>\n",
       "      <td>3012</td>\n",
       "    </tr>\n",
       "  </tbody>\n",
       "</table>\n",
       "</div>"
      ],
      "text/plain": [
       "                        Vendor\n",
       "Quarter   Vendor              \n",
       "Quarter 4 Amazon          6476\n",
       "          STAPLES         4452\n",
       "          LOWES #00241    2958\n",
       "          AMERICAN AI     2830\n",
       "          WW GRAINGER     2678\n",
       "Quarter 3 Amazon          6237\n",
       "          STAPLES         5296\n",
       "          AMERICAN AI     3824\n",
       "          WW GRAINGER     2918\n",
       "          WAL-MART        2856\n",
       "Quarter 2 STAPLES         5023\n",
       "          Amazon          4895\n",
       "          WAL-MART        3363\n",
       "          WW GRAINGER     2913\n",
       "          AMERICAN AI     2354\n",
       "Quarter 1 Amazon          6112\n",
       "          STAPLES         5347\n",
       "          WAL-MART        3710\n",
       "          WW GRAINGER     3567\n",
       "          AMERICAN AI     3012"
      ]
     },
     "execution_count": 23,
     "metadata": {},
     "output_type": "execute_result"
    }
   ],
   "source": [
    "#To find the most sales per Vendor per Quarter then we can use the Quarter column and Vendor column in a groupby\n",
    "df.groupby(['Quarter'])['Vendor'].value_counts().to_frame().sort_values('Vendor', ascending=False).groupby('Quarter').head(5).sort_values(['Quarter', 'Vendor'], ascending=False)"
   ]
  },
  {
   "cell_type": "markdown",
   "metadata": {},
   "source": [
    "No surprises that the top 5 for every month are also the top 5 overall "
   ]
  },
  {
   "cell_type": "code",
   "execution_count": 24,
   "metadata": {},
   "outputs": [
    {
     "data": {
      "text/plain": [
       "Merchant Category Code (MCC)\n",
       "DENTAL/LABORATORY/MEDICAL/OPHTHALMIC HOSP EQIP AND SUP.    11004961.34\n",
       "INDUSTRIAL SUPPLIES NOT ELSEWHERE CLASSIFIED               10846920.22\n",
       "COMPUTERS, COMPUTER PERIPHERAL EQUIPMENT, SOFTWARE         10091600.76\n",
       "COMMERCIAL EQUIPMENT, NOT ELSEWHERE CLASSIFIED              8139120.69\n",
       "MISCELLANEOUS AND SPECIALTY RETAIL STORES                   5563077.11\n",
       "Name: Amount, dtype: float64"
      ]
     },
     "execution_count": 24,
     "metadata": {},
     "output_type": "execute_result"
    }
   ],
   "source": [
    "#To find the Top 5 Categories by Sum of Amounts we can simply use another groupby function\n",
    "df.groupby('Merchant Category Code (MCC)')['Amount'].sum().sort_values(ascending=False).head(5)"
   ]
  },
  {
   "cell_type": "markdown",
   "metadata": {},
   "source": [
    "# Part C: Customer Segmentation"
   ]
  },
  {
   "cell_type": "markdown",
   "metadata": {},
   "source": [
    "A popular way of doing customer segmentation with data relating to transactions is to use `RFM` or `Recency, Frequency, and Montetary`. More info can be found here. https://clevertap.com/blog/rfm-analysis/ To create an analysis, we will create a new dataframe wherein each row is a single user."
   ]
  },
  {
   "cell_type": "code",
   "execution_count": 25,
   "metadata": {},
   "outputs": [
    {
     "data": {
      "text/html": [
       "<div>\n",
       "<style scoped>\n",
       "    .dataframe tbody tr th:only-of-type {\n",
       "        vertical-align: middle;\n",
       "    }\n",
       "\n",
       "    .dataframe tbody tr th {\n",
       "        vertical-align: top;\n",
       "    }\n",
       "\n",
       "    .dataframe thead th {\n",
       "        text-align: right;\n",
       "    }\n",
       "</style>\n",
       "<table border=\"1\" class=\"dataframe\">\n",
       "  <thead>\n",
       "    <tr style=\"text-align: right;\">\n",
       "      <th></th>\n",
       "      <th>unique identifier</th>\n",
       "      <th>sum(Amount)</th>\n",
       "    </tr>\n",
       "  </thead>\n",
       "  <tbody>\n",
       "    <tr>\n",
       "      <th>0</th>\n",
       "      <td>11500015000</td>\n",
       "      <td>4626.46</td>\n",
       "    </tr>\n",
       "    <tr>\n",
       "      <th>1</th>\n",
       "      <td>22410024100</td>\n",
       "      <td>2784.09</td>\n",
       "    </tr>\n",
       "    <tr>\n",
       "      <th>2</th>\n",
       "      <td>44200042000</td>\n",
       "      <td>2143.97</td>\n",
       "    </tr>\n",
       "    <tr>\n",
       "      <th>3</th>\n",
       "      <td>44460044600</td>\n",
       "      <td>111.99</td>\n",
       "    </tr>\n",
       "    <tr>\n",
       "      <th>4</th>\n",
       "      <td>44800048000</td>\n",
       "      <td>1258.07</td>\n",
       "    </tr>\n",
       "  </tbody>\n",
       "</table>\n",
       "</div>"
      ],
      "text/plain": [
       "  unique identifier  sum(Amount)\n",
       "0       11500015000      4626.46\n",
       "1       22410024100      2784.09\n",
       "2       44200042000      2143.97\n",
       "3       44460044600       111.99\n",
       "4       44800048000      1258.07"
      ]
     },
     "execution_count": 25,
     "metadata": {},
     "output_type": "execute_result"
    }
   ],
   "source": [
    "#Part 1 -- create a dataframe wherein one row is one user and one column is the amount that user has spent\n",
    "sum_df = df.groupby('unique identifier')['Amount'].sum().reset_index()\n",
    "sum_df.columns = ['unique identifier', 'sum(Amount)']\n",
    "sum_df.head()"
   ]
  },
  {
   "cell_type": "code",
   "execution_count": 26,
   "metadata": {},
   "outputs": [
    {
     "data": {
      "text/html": [
       "<div>\n",
       "<style scoped>\n",
       "    .dataframe tbody tr th:only-of-type {\n",
       "        vertical-align: middle;\n",
       "    }\n",
       "\n",
       "    .dataframe tbody tr th {\n",
       "        vertical-align: top;\n",
       "    }\n",
       "\n",
       "    .dataframe thead th {\n",
       "        text-align: right;\n",
       "    }\n",
       "</style>\n",
       "<table border=\"1\" class=\"dataframe\">\n",
       "  <thead>\n",
       "    <tr style=\"text-align: right;\">\n",
       "      <th></th>\n",
       "      <th>unique identifier</th>\n",
       "      <th>count(Transactions)</th>\n",
       "    </tr>\n",
       "  </thead>\n",
       "  <tbody>\n",
       "    <tr>\n",
       "      <th>0</th>\n",
       "      <td>11500015000</td>\n",
       "      <td>1</td>\n",
       "    </tr>\n",
       "    <tr>\n",
       "      <th>1</th>\n",
       "      <td>22410024100</td>\n",
       "      <td>10</td>\n",
       "    </tr>\n",
       "    <tr>\n",
       "      <th>2</th>\n",
       "      <td>44200042000</td>\n",
       "      <td>16</td>\n",
       "    </tr>\n",
       "    <tr>\n",
       "      <th>3</th>\n",
       "      <td>44460044600</td>\n",
       "      <td>1</td>\n",
       "    </tr>\n",
       "    <tr>\n",
       "      <th>4</th>\n",
       "      <td>44800048000</td>\n",
       "      <td>13</td>\n",
       "    </tr>\n",
       "  </tbody>\n",
       "</table>\n",
       "</div>"
      ],
      "text/plain": [
       "  unique identifier  count(Transactions)\n",
       "0       11500015000                    1\n",
       "1       22410024100                   10\n",
       "2       44200042000                   16\n",
       "3       44460044600                    1\n",
       "4       44800048000                   13"
      ]
     },
     "execution_count": 26,
     "metadata": {},
     "output_type": "execute_result"
    }
   ],
   "source": [
    "#Part 2 -- create a dataframe wherein one row is one user and one column is the number of transactions\n",
    "cnt_df = df.groupby('unique identifier')['Amount'].count().reset_index()\n",
    "cnt_df.columns = ['unique identifier', 'count(Transactions)']\n",
    "cnt_df.head()"
   ]
  },
  {
   "cell_type": "code",
   "execution_count": 27,
   "metadata": {},
   "outputs": [
    {
     "data": {
      "text/html": [
       "<div>\n",
       "<style scoped>\n",
       "    .dataframe tbody tr th:only-of-type {\n",
       "        vertical-align: middle;\n",
       "    }\n",
       "\n",
       "    .dataframe tbody tr th {\n",
       "        vertical-align: top;\n",
       "    }\n",
       "\n",
       "    .dataframe thead th {\n",
       "        text-align: right;\n",
       "    }\n",
       "</style>\n",
       "<table border=\"1\" class=\"dataframe\">\n",
       "  <thead>\n",
       "    <tr style=\"text-align: right;\">\n",
       "      <th></th>\n",
       "      <th>unique identifier</th>\n",
       "      <th>last_Transactions</th>\n",
       "      <th>days since last transaction</th>\n",
       "    </tr>\n",
       "  </thead>\n",
       "  <tbody>\n",
       "    <tr>\n",
       "      <th>0</th>\n",
       "      <td>11500015000</td>\n",
       "      <td>2014-03-10</td>\n",
       "      <td>113</td>\n",
       "    </tr>\n",
       "    <tr>\n",
       "      <th>1</th>\n",
       "      <td>22410024100</td>\n",
       "      <td>2014-03-14</td>\n",
       "      <td>109</td>\n",
       "    </tr>\n",
       "    <tr>\n",
       "      <th>2</th>\n",
       "      <td>44200042000</td>\n",
       "      <td>2014-06-04</td>\n",
       "      <td>27</td>\n",
       "    </tr>\n",
       "    <tr>\n",
       "      <th>3</th>\n",
       "      <td>44460044600</td>\n",
       "      <td>2013-07-08</td>\n",
       "      <td>358</td>\n",
       "    </tr>\n",
       "    <tr>\n",
       "      <th>4</th>\n",
       "      <td>44800048000</td>\n",
       "      <td>2014-06-30</td>\n",
       "      <td>1</td>\n",
       "    </tr>\n",
       "  </tbody>\n",
       "</table>\n",
       "</div>"
      ],
      "text/plain": [
       "  unique identifier last_Transactions  days since last transaction\n",
       "0       11500015000        2014-03-10                          113\n",
       "1       22410024100        2014-03-14                          109\n",
       "2       44200042000        2014-06-04                           27\n",
       "3       44460044600        2013-07-08                          358\n",
       "4       44800048000        2014-06-30                            1"
      ]
     },
     "execution_count": 27,
     "metadata": {},
     "output_type": "execute_result"
    }
   ],
   "source": [
    "#Part 3 -- create a dataframe wherein one row is one user and one column is the date of last transaction\n",
    "# We will create another column which is the difference in days from an arbitrary date '20140701' as the last date of transaction is '20140630'\n",
    "last_df = df.groupby('unique identifier')['Transaction Date'].last().reset_index()\n",
    "last_df.columns = ['unique identifier', 'last_Transactions']\n",
    "last_df['days since last transaction'] = (pd.to_datetime('2014-07-01') - pd.to_datetime(last_df['last_Transactions'])).dt.days\n",
    "last_df.head()"
   ]
  },
  {
   "cell_type": "code",
   "execution_count": 28,
   "metadata": {},
   "outputs": [
    {
     "data": {
      "text/html": [
       "<div>\n",
       "<style scoped>\n",
       "    .dataframe tbody tr th:only-of-type {\n",
       "        vertical-align: middle;\n",
       "    }\n",
       "\n",
       "    .dataframe tbody tr th {\n",
       "        vertical-align: top;\n",
       "    }\n",
       "\n",
       "    .dataframe thead th {\n",
       "        text-align: right;\n",
       "    }\n",
       "</style>\n",
       "<table border=\"1\" class=\"dataframe\">\n",
       "  <thead>\n",
       "    <tr style=\"text-align: right;\">\n",
       "      <th></th>\n",
       "      <th>unique identifier</th>\n",
       "      <th>sum(Amount)</th>\n",
       "      <th>count(Transactions)</th>\n",
       "      <th>last_Transactions</th>\n",
       "      <th>days since last transaction</th>\n",
       "    </tr>\n",
       "  </thead>\n",
       "  <tbody>\n",
       "    <tr>\n",
       "      <th>0</th>\n",
       "      <td>11500015000</td>\n",
       "      <td>4626.46</td>\n",
       "      <td>1</td>\n",
       "      <td>2014-03-10</td>\n",
       "      <td>113</td>\n",
       "    </tr>\n",
       "    <tr>\n",
       "      <th>1</th>\n",
       "      <td>22410024100</td>\n",
       "      <td>2784.09</td>\n",
       "      <td>10</td>\n",
       "      <td>2014-03-14</td>\n",
       "      <td>109</td>\n",
       "    </tr>\n",
       "    <tr>\n",
       "      <th>2</th>\n",
       "      <td>44200042000</td>\n",
       "      <td>2143.97</td>\n",
       "      <td>16</td>\n",
       "      <td>2014-06-04</td>\n",
       "      <td>27</td>\n",
       "    </tr>\n",
       "    <tr>\n",
       "      <th>3</th>\n",
       "      <td>44460044600</td>\n",
       "      <td>111.99</td>\n",
       "      <td>1</td>\n",
       "      <td>2013-07-08</td>\n",
       "      <td>358</td>\n",
       "    </tr>\n",
       "    <tr>\n",
       "      <th>4</th>\n",
       "      <td>44800048000</td>\n",
       "      <td>1258.07</td>\n",
       "      <td>13</td>\n",
       "      <td>2014-06-30</td>\n",
       "      <td>1</td>\n",
       "    </tr>\n",
       "  </tbody>\n",
       "</table>\n",
       "</div>"
      ],
      "text/plain": [
       "  unique identifier  sum(Amount)  count(Transactions) last_Transactions  \\\n",
       "0       11500015000      4626.46                    1        2014-03-10   \n",
       "1       22410024100      2784.09                   10        2014-03-14   \n",
       "2       44200042000      2143.97                   16        2014-06-04   \n",
       "3       44460044600       111.99                    1        2013-07-08   \n",
       "4       44800048000      1258.07                   13        2014-06-30   \n",
       "\n",
       "   days since last transaction  \n",
       "0                          113  \n",
       "1                          109  \n",
       "2                           27  \n",
       "3                          358  \n",
       "4                            1  "
      ]
     },
     "execution_count": 28,
     "metadata": {},
     "output_type": "execute_result"
    }
   ],
   "source": [
    "#Combine the 3 dataframes \n",
    "user_df = sum_df.merge(cnt_df, left_on='unique identifier', right_on='unique identifier')\n",
    "user_df = user_df.merge(last_df, left_on='unique identifier', right_on='unique identifier')\n",
    "user_df.head()"
   ]
  },
  {
   "cell_type": "code",
   "execution_count": 29,
   "metadata": {},
   "outputs": [
    {
     "data": {
      "text/html": [
       "<div>\n",
       "<style scoped>\n",
       "    .dataframe tbody tr th:only-of-type {\n",
       "        vertical-align: middle;\n",
       "    }\n",
       "\n",
       "    .dataframe tbody tr th {\n",
       "        vertical-align: top;\n",
       "    }\n",
       "\n",
       "    .dataframe thead th {\n",
       "        text-align: right;\n",
       "    }\n",
       "</style>\n",
       "<table border=\"1\" class=\"dataframe\">\n",
       "  <thead>\n",
       "    <tr style=\"text-align: right;\">\n",
       "      <th></th>\n",
       "      <th>unique identifier</th>\n",
       "      <th>sum(Amount)</th>\n",
       "      <th>count(Transactions)</th>\n",
       "      <th>last_Transactions</th>\n",
       "      <th>days since last transaction</th>\n",
       "      <th>Recency_rank</th>\n",
       "      <th>Frequency_rank</th>\n",
       "      <th>Monetary_rank</th>\n",
       "      <th>Recency</th>\n",
       "      <th>Frequency</th>\n",
       "      <th>Monetary</th>\n",
       "    </tr>\n",
       "  </thead>\n",
       "  <tbody>\n",
       "    <tr>\n",
       "      <th>0</th>\n",
       "      <td>11500015000</td>\n",
       "      <td>4626.46</td>\n",
       "      <td>1</td>\n",
       "      <td>2014-03-10</td>\n",
       "      <td>113</td>\n",
       "      <td>4619.5</td>\n",
       "      <td>97.5</td>\n",
       "      <td>2206.0</td>\n",
       "      <td>1</td>\n",
       "      <td>1</td>\n",
       "      <td>3</td>\n",
       "    </tr>\n",
       "    <tr>\n",
       "      <th>1</th>\n",
       "      <td>22410024100</td>\n",
       "      <td>2784.09</td>\n",
       "      <td>10</td>\n",
       "      <td>2014-03-14</td>\n",
       "      <td>109</td>\n",
       "      <td>4590.0</td>\n",
       "      <td>1233.0</td>\n",
       "      <td>1672.0</td>\n",
       "      <td>1</td>\n",
       "      <td>2</td>\n",
       "      <td>2</td>\n",
       "    </tr>\n",
       "    <tr>\n",
       "      <th>2</th>\n",
       "      <td>44200042000</td>\n",
       "      <td>2143.97</td>\n",
       "      <td>16</td>\n",
       "      <td>2014-06-04</td>\n",
       "      <td>27</td>\n",
       "      <td>3073.5</td>\n",
       "      <td>1722.5</td>\n",
       "      <td>1416.0</td>\n",
       "      <td>3</td>\n",
       "      <td>2</td>\n",
       "      <td>2</td>\n",
       "    </tr>\n",
       "    <tr>\n",
       "      <th>3</th>\n",
       "      <td>44460044600</td>\n",
       "      <td>111.99</td>\n",
       "      <td>1</td>\n",
       "      <td>2013-07-08</td>\n",
       "      <td>358</td>\n",
       "      <td>5428.5</td>\n",
       "      <td>97.5</td>\n",
       "      <td>173.0</td>\n",
       "      <td>1</td>\n",
       "      <td>1</td>\n",
       "      <td>1</td>\n",
       "    </tr>\n",
       "    <tr>\n",
       "      <th>4</th>\n",
       "      <td>44800048000</td>\n",
       "      <td>1258.07</td>\n",
       "      <td>13</td>\n",
       "      <td>2014-06-30</td>\n",
       "      <td>1</td>\n",
       "      <td>3.0</td>\n",
       "      <td>1481.0</td>\n",
       "      <td>1011.0</td>\n",
       "      <td>5</td>\n",
       "      <td>2</td>\n",
       "      <td>1</td>\n",
       "    </tr>\n",
       "  </tbody>\n",
       "</table>\n",
       "</div>"
      ],
      "text/plain": [
       "  unique identifier  sum(Amount)  count(Transactions) last_Transactions  \\\n",
       "0       11500015000      4626.46                    1        2014-03-10   \n",
       "1       22410024100      2784.09                   10        2014-03-14   \n",
       "2       44200042000      2143.97                   16        2014-06-04   \n",
       "3       44460044600       111.99                    1        2013-07-08   \n",
       "4       44800048000      1258.07                   13        2014-06-30   \n",
       "\n",
       "   days since last transaction  Recency_rank  Frequency_rank  Monetary_rank  \\\n",
       "0                          113        4619.5            97.5         2206.0   \n",
       "1                          109        4590.0          1233.0         1672.0   \n",
       "2                           27        3073.5          1722.5         1416.0   \n",
       "3                          358        5428.5            97.5          173.0   \n",
       "4                            1           3.0          1481.0         1011.0   \n",
       "\n",
       "  Recency Frequency Monetary  \n",
       "0       1         1        3  \n",
       "1       1         2        2  \n",
       "2       3         2        2  \n",
       "3       1         1        1  \n",
       "4       5         2        1  "
      ]
     },
     "execution_count": 29,
     "metadata": {},
     "output_type": "execute_result"
    }
   ],
   "source": [
    "#We will now create 3 new columns Recency, Frequency and Monetary\n",
    "#We will establish the segments by using rank\n",
    "user_df['Recency_rank'] = user_df['days since last transaction'].rank()\n",
    "user_df['Frequency_rank'] = user_df['count(Transactions)'].rank()\n",
    "user_df['Monetary_rank'] = user_df['sum(Amount)'].rank()\n",
    "\n",
    "#The scores for Receny, Frequency and Monetary will then be assigned by using pd.cut\n",
    "user_df['Recency'] = pd.cut(user_df['Recency_rank'], bins=5, labels = [5, 4, 3, 2, 1])\n",
    "\n",
    "#Notice that the labels for Recency are inverted because a lower Recency is more favorable.\n",
    "user_df['Frequency'] = pd.cut(user_df['Frequency_rank'], bins=5, labels = [1, 2, 3, 4, 5])\n",
    "user_df['Monetary'] = pd.cut(user_df['Monetary_rank'], bins=5, labels = [1, 2, 3, 4, 5])\n",
    "\n",
    "user_df.head()"
   ]
  },
  {
   "cell_type": "code",
   "execution_count": 30,
   "metadata": {},
   "outputs": [
    {
     "data": {
      "text/plain": [
       "Frequency\n",
       "1      4.445378\n",
       "2     16.405581\n",
       "3     35.686481\n",
       "4     74.039705\n",
       "5    281.047442\n",
       "Name: count(Transactions), dtype: float64"
      ]
     },
     "execution_count": 30,
     "metadata": {},
     "output_type": "execute_result"
    }
   ],
   "source": [
    "#Using the scores in Recency, Frequency and Monetary we can simply get our best users by reading the value of the score\n",
    "# Users with Frequency score of 5 have many transactions\n",
    "#Printing mean number of transactions per score\n",
    "user_df.groupby('Frequency')['count(Transactions)'].mean()"
   ]
  },
  {
   "cell_type": "code",
   "execution_count": 31,
   "metadata": {},
   "outputs": [
    {
     "data": {
      "text/plain": [
       "Monetary\n",
       "1       565.392404\n",
       "2      2807.878298\n",
       "3      7439.328564\n",
       "4     18519.265645\n",
       "5    142708.553879\n",
       "Name: sum(Amount), dtype: float64"
      ]
     },
     "execution_count": 31,
     "metadata": {},
     "output_type": "execute_result"
    }
   ],
   "source": [
    "#Using the scores in Recency, Frequency and Monetary we can simply get our best users by reading the value of the score\n",
    "# Users with monetary score of 5 are very big spenders \n",
    "#Printing mean amount spent per score\n",
    "user_df.groupby('Monetary')['sum(Amount)'].mean()"
   ]
  },
  {
   "cell_type": "code",
   "execution_count": 32,
   "metadata": {},
   "outputs": [
    {
     "data": {
      "text/html": [
       "<div>\n",
       "<style scoped>\n",
       "    .dataframe tbody tr th:only-of-type {\n",
       "        vertical-align: middle;\n",
       "    }\n",
       "\n",
       "    .dataframe tbody tr th {\n",
       "        vertical-align: top;\n",
       "    }\n",
       "\n",
       "    .dataframe thead th {\n",
       "        text-align: right;\n",
       "    }\n",
       "</style>\n",
       "<table border=\"1\" class=\"dataframe\">\n",
       "  <thead>\n",
       "    <tr style=\"text-align: right;\">\n",
       "      <th></th>\n",
       "      <th>unique identifier</th>\n",
       "      <th>unique(Vendors)</th>\n",
       "    </tr>\n",
       "  </thead>\n",
       "  <tbody>\n",
       "    <tr>\n",
       "      <th>0</th>\n",
       "      <td>11500015000</td>\n",
       "      <td>1</td>\n",
       "    </tr>\n",
       "    <tr>\n",
       "      <th>1</th>\n",
       "      <td>22410024100</td>\n",
       "      <td>3</td>\n",
       "    </tr>\n",
       "    <tr>\n",
       "      <th>2</th>\n",
       "      <td>44200042000</td>\n",
       "      <td>2</td>\n",
       "    </tr>\n",
       "    <tr>\n",
       "      <th>3</th>\n",
       "      <td>44460044600</td>\n",
       "      <td>1</td>\n",
       "    </tr>\n",
       "    <tr>\n",
       "      <th>4</th>\n",
       "      <td>44800048000</td>\n",
       "      <td>4</td>\n",
       "    </tr>\n",
       "  </tbody>\n",
       "</table>\n",
       "</div>"
      ],
      "text/plain": [
       "  unique identifier  unique(Vendors)\n",
       "0       11500015000                1\n",
       "1       22410024100                3\n",
       "2       44200042000                2\n",
       "3       44460044600                1\n",
       "4       44800048000                4"
      ]
     },
     "execution_count": 32,
     "metadata": {},
     "output_type": "execute_result"
    }
   ],
   "source": [
    "#Part 4 -- in order to satisfy the last condition of number of merchants we will create another dataframe which gets the nunique vendors\n",
    "vendor_df = df.groupby('unique identifier')['Vendor'].nunique().reset_index()\n",
    "vendor_df.columns = ['unique identifier', 'unique(Vendors)']\n",
    "vendor_df.head()"
   ]
  },
  {
   "cell_type": "code",
   "execution_count": 33,
   "metadata": {},
   "outputs": [],
   "source": [
    "#Add this to the table\n",
    "user_df = user_df.merge(vendor_df, left_on='unique identifier', right_on='unique identifier')\n",
    "\n",
    "#Create the rank and the score\n",
    "user_df['Diversity_rank'] = user_df['unique(Vendors)'].rank()\n",
    "user_df['Diversity'] = pd.cut(user_df['Diversity_rank'], bins=5, labels = [1, 2, 3, 4, 5])"
   ]
  },
  {
   "cell_type": "code",
   "execution_count": 34,
   "metadata": {},
   "outputs": [
    {
     "data": {
      "text/plain": [
       "Monetary\n",
       "1     3.508227\n",
       "2     8.671546\n",
       "3    14.716377\n",
       "4    23.937786\n",
       "5    52.986276\n",
       "Name: unique(Vendors), dtype: float64"
      ]
     },
     "execution_count": 34,
     "metadata": {},
     "output_type": "execute_result"
    }
   ],
   "source": [
    "#Users with Diversity score of 5 are very diverse in terms of the merchants\n",
    "user_df.groupby('Monetary')['unique(Vendors)'].mean()"
   ]
  },
  {
   "cell_type": "markdown",
   "metadata": {},
   "source": [
    "One way to use the scores is to concetante them -- for example a user with a score of 5, 5, 5, 5 for Recency, Frequency, Monetary and Diversity respectively would be the very best type of user.  His score would be 5555. A user with this score would probably not need any additional incentives or pushes to better their usage. However, they could be targeted for new types of products in the future. Alternatively, a user with a score of 1111 would be the worst type of user and would need additional incentives in order to become a better user. \n",
    "\n",
    "Concatenating the scores would be useful for marketers since they would know in which aspect a user may be failing at, however it creates too many segments (625 total!) to manage effectively. \n",
    "\n",
    "An alternative way is to simply average the scores. For example a 5555 would have a score of 5 while, 1111 would have a score of 1. A score of 4541 would have a score of 3.5. This makes it easier to know how good a user is albeit you lose the information of which aspect a user may be lacking at.\n",
    "\n",
    "A segmentation like this could be used in order to tier rewards, promos, even bin users for different resurrection strategies should they churn."
   ]
  },
  {
   "cell_type": "markdown",
   "metadata": {},
   "source": [
    "# Part E: Supervised Learning Problem"
   ]
  },
  {
   "cell_type": "markdown",
   "metadata": {},
   "source": [
    "Let's break down the problem into a simpler version. \n",
    "\n",
    "`If at 2014-06-20, could we make a model that predicts who would between at 2014-06-30?`\n",
    "\n",
    "To do that, we must create a label. If a user transacts between `2014-06-21` and  `2014-06-30` then we label it as 1 and 0 if not."
   ]
  },
  {
   "cell_type": "code",
   "execution_count": 35,
   "metadata": {},
   "outputs": [],
   "source": [
    "#use Recency to create the class column\n",
    "\n",
    "#label all as 0 \n",
    "user_df['class'] = 0 \n",
    "\n",
    "#label those that transact as 1\n",
    "user_df.loc[user_df['days since last transaction'] <= 10, 'class'] = 1"
   ]
  },
  {
   "cell_type": "markdown",
   "metadata": {},
   "source": [
    "To create the model and prevent overfit or leakage -- we will create a new RFMD dataframe which considers only data from before 2014-06-30"
   ]
  },
  {
   "cell_type": "code",
   "execution_count": 36,
   "metadata": {},
   "outputs": [
    {
     "data": {
      "text/html": [
       "<div>\n",
       "<style scoped>\n",
       "    .dataframe tbody tr th:only-of-type {\n",
       "        vertical-align: middle;\n",
       "    }\n",
       "\n",
       "    .dataframe tbody tr th {\n",
       "        vertical-align: top;\n",
       "    }\n",
       "\n",
       "    .dataframe thead th {\n",
       "        text-align: right;\n",
       "    }\n",
       "</style>\n",
       "<table border=\"1\" class=\"dataframe\">\n",
       "  <thead>\n",
       "    <tr style=\"text-align: right;\">\n",
       "      <th></th>\n",
       "      <th>unique identifier</th>\n",
       "      <th>sum(Amount)</th>\n",
       "      <th>count(Transactions)</th>\n",
       "      <th>last_Transactions</th>\n",
       "      <th>days since last transaction</th>\n",
       "      <th>unique(Vendors)</th>\n",
       "      <th>class</th>\n",
       "    </tr>\n",
       "  </thead>\n",
       "  <tbody>\n",
       "    <tr>\n",
       "      <th>0</th>\n",
       "      <td>11500015000</td>\n",
       "      <td>4626.46</td>\n",
       "      <td>1</td>\n",
       "      <td>2014-03-10</td>\n",
       "      <td>102</td>\n",
       "      <td>1</td>\n",
       "      <td>0</td>\n",
       "    </tr>\n",
       "    <tr>\n",
       "      <th>1</th>\n",
       "      <td>22410024100</td>\n",
       "      <td>2784.09</td>\n",
       "      <td>10</td>\n",
       "      <td>2014-03-14</td>\n",
       "      <td>98</td>\n",
       "      <td>3</td>\n",
       "      <td>0</td>\n",
       "    </tr>\n",
       "    <tr>\n",
       "      <th>2</th>\n",
       "      <td>44200042000</td>\n",
       "      <td>2143.97</td>\n",
       "      <td>16</td>\n",
       "      <td>2014-06-04</td>\n",
       "      <td>16</td>\n",
       "      <td>2</td>\n",
       "      <td>0</td>\n",
       "    </tr>\n",
       "    <tr>\n",
       "      <th>3</th>\n",
       "      <td>44460044600</td>\n",
       "      <td>111.99</td>\n",
       "      <td>1</td>\n",
       "      <td>2013-07-08</td>\n",
       "      <td>347</td>\n",
       "      <td>1</td>\n",
       "      <td>0</td>\n",
       "    </tr>\n",
       "    <tr>\n",
       "      <th>4</th>\n",
       "      <td>44800048000</td>\n",
       "      <td>1007.32</td>\n",
       "      <td>11</td>\n",
       "      <td>2014-04-25</td>\n",
       "      <td>56</td>\n",
       "      <td>4</td>\n",
       "      <td>1</td>\n",
       "    </tr>\n",
       "  </tbody>\n",
       "</table>\n",
       "</div>"
      ],
      "text/plain": [
       "  unique identifier  sum(Amount)  count(Transactions) last_Transactions  \\\n",
       "0       11500015000      4626.46                    1        2014-03-10   \n",
       "1       22410024100      2784.09                   10        2014-03-14   \n",
       "2       44200042000      2143.97                   16        2014-06-04   \n",
       "3       44460044600       111.99                    1        2013-07-08   \n",
       "4       44800048000      1007.32                   11        2014-04-25   \n",
       "\n",
       "   days since last transaction  unique(Vendors)  class  \n",
       "0                          102                1      0  \n",
       "1                           98                3      0  \n",
       "2                           16                2      0  \n",
       "3                          347                1      0  \n",
       "4                           56                4      1  "
      ]
     },
     "execution_count": 36,
     "metadata": {},
     "output_type": "execute_result"
    }
   ],
   "source": [
    "#Consider only data that occured on and before 2014-06-20\n",
    "#We can then create the above RFM table \n",
    "training_sum_df = df[df['Transaction Date'] <= pd.to_datetime('2014-06-20')].groupby('unique identifier')['Amount'].sum().reset_index()\n",
    "training_sum_df.columns = ['unique identifier', 'sum(Amount)']\n",
    "training_freq_df = df[df['Transaction Date'] <= pd.to_datetime('2014-06-20')].groupby('unique identifier')['Amount'].count().reset_index()\n",
    "training_freq_df.columns = ['unique identifier', 'count(Transactions)']\n",
    "training_rec_df = df[df['Transaction Date'] <= pd.to_datetime('2014-06-20')].groupby('unique identifier')['Transaction Date'].last().reset_index()\n",
    "training_rec_df.columns = ['unique identifier', 'last_Transactions']\n",
    "training_rec_df['days since last transaction'] = (pd.to_datetime('2014-06-20') - pd.to_datetime(training_rec_df['last_Transactions'])).dt.days\n",
    "training_vendor_df = df[df['Transaction Date'] <= pd.to_datetime('2014-06-20')].groupby('unique identifier')['Vendor'].nunique().reset_index()\n",
    "training_vendor_df.columns = ['unique identifier', 'unique(Vendors)']\n",
    "\n",
    "#merge the dataframes \n",
    "training_df = training_sum_df.merge(training_freq_df, left_on='unique identifier', right_on='unique identifier')\n",
    "training_df = training_df.merge(training_rec_df,left_on='unique identifier', right_on='unique identifier')\n",
    "training_df = training_df.merge(training_vendor_df,left_on='unique identifier', right_on='unique identifier')\n",
    "\n",
    "#add the class column\n",
    "training_df = training_df.merge(user_df[['class', 'unique identifier']], left_on='unique identifier', right_on='unique identifier')\n",
    "\n",
    "training_df.head()"
   ]
  },
  {
   "cell_type": "code",
   "execution_count": 37,
   "metadata": {},
   "outputs": [
    {
     "data": {
      "text/plain": [
       "0    3831\n",
       "1    1610\n",
       "Name: class, dtype: int64"
      ]
     },
     "execution_count": 37,
     "metadata": {},
     "output_type": "execute_result"
    }
   ],
   "source": [
    "#How many samples to have?\n",
    "training_df['class'].value_counts()"
   ]
  },
  {
   "cell_type": "markdown",
   "metadata": {},
   "source": [
    "The class is very small -- one way to deal with this is to actually recreate the table but making it more time invariate (using previous days data to predict next days data without considering the date) It would be similar to making the steps I made in the above cells but doing it some 365 times. (Easier to do with other languages)\n"
   ]
  },
  {
   "cell_type": "markdown",
   "metadata": {},
   "source": [
    "Because we have an imbalanced data set, we can try to remedy by using imblearn"
   ]
  },
  {
   "cell_type": "code",
   "execution_count": 38,
   "metadata": {},
   "outputs": [],
   "source": [
    "from sklearn.model_selection import train_test_split\n",
    "from sklearn.metrics import confusion_matrix as cf\n",
    "from sklearn.metrics import classification_report\n",
    "from imblearn.under_sampling import RandomUnderSampler\n",
    "from imblearn.over_sampling import SMOTE\n",
    "from sklearn.tree import DecisionTreeClassifier"
   ]
  },
  {
   "cell_type": "code",
   "execution_count": 47,
   "metadata": {},
   "outputs": [],
   "source": [
    "test_cols = ['sum(Amount)', 'count(Transactions)', 'days since last transaction', 'unique(Vendors)']"
   ]
  },
  {
   "cell_type": "code",
   "execution_count": 41,
   "metadata": {},
   "outputs": [],
   "source": [
    "X = training_df[test_cols]\n",
    "y = training_df['class']\n",
    "# train-test split\n",
    "X_train, X_test, y_train, y_test = train_test_split(X, y,\n",
    "                                                    train_size=0.75, test_size=0.25)"
   ]
  },
  {
   "cell_type": "code",
   "execution_count": 42,
   "metadata": {},
   "outputs": [],
   "source": [
    "# Oversample minority using SMOTE\n",
    "sm = SMOTE(random_state=42)\n",
    "X_res, y_res = sm.fit_sample(X_train, y_train)"
   ]
  },
  {
   "cell_type": "code",
   "execution_count": 44,
   "metadata": {},
   "outputs": [],
   "source": [
    "#Use sklearn's decision Tree classifier\n",
    "model = DecisionTreeClassifier(criterion=\"gini\", max_depth=5, min_samples_split=14, class_weight='balanced')"
   ]
  },
  {
   "cell_type": "code",
   "execution_count": 45,
   "metadata": {},
   "outputs": [
    {
     "name": "stdout",
     "output_type": "stream",
     "text": [
      "0.7068332108743571\n",
      "Wall time: 14 ms\n"
     ]
    }
   ],
   "source": [
    "%%time\n",
    "model.fit(X_res, y_res)\n",
    "y_model_pred = model.predict(X_test)\n",
    "print(model.score(X_test, y_test))"
   ]
  },
  {
   "cell_type": "code",
   "execution_count": 46,
   "metadata": {},
   "outputs": [
    {
     "name": "stdout",
     "output_type": "stream",
     "text": [
      "              precision    recall  f1-score   support\n",
      "\n",
      "           0       0.87      0.69      0.77       963\n",
      "           1       0.50      0.74      0.60       398\n",
      "\n",
      "   micro avg       0.71      0.71      0.71      1361\n",
      "   macro avg       0.68      0.72      0.68      1361\n",
      "weighted avg       0.76      0.71      0.72      1361\n",
      "\n"
     ]
    }
   ],
   "source": [
    "print (classification_report(y_test, y_model_pred))"
   ]
  },
  {
   "cell_type": "code",
   "execution_count": 48,
   "metadata": {},
   "outputs": [],
   "source": [
    "conf_mat_tree = cf(y_test, y_model_pred)"
   ]
  },
  {
   "cell_type": "code",
   "execution_count": 53,
   "metadata": {},
   "outputs": [
    {
     "data": {
      "image/png": "[encoded data removed]",
      "text/plain": [
       "<Figure size 576x576 with 1 Axes>"
      ]
     },
     "metadata": {
      "needs_background": "light"
     },
     "output_type": "display_data"
    },
    {
     "name": "stdout",
     "output_type": "stream",
     "text": [
      "Sensitivity: 0.7412060301507538\n",
      "Specificity: 0.6926272066458983\n"
     ]
    }
   ],
   "source": [
    "#show confusion matrix\n",
    "import show_confusion_matrix as scm\n",
    "scm.show_confusion_matrix(conf_mat_tree)"
   ]
  },
  {
   "cell_type": "markdown",
   "metadata": {},
   "source": [
    "We can see that the model is quite poor at predicting a 1 accurately with only 50% precision"
   ]
  },
  {
   "cell_type": "code",
   "execution_count": 51,
   "metadata": {},
   "outputs": [],
   "source": [
    "#We can try using a different model such as Gradient Boosted Decision Trees\n",
    "from sklearn.ensemble import GradientBoostingClassifier\n",
    "gbdt = GradientBoostingClassifier(loss='deviance', learning_rate=0.1, n_estimators=100, subsample=1.0, criterion='friedman_mse')"
   ]
  },
  {
   "cell_type": "code",
   "execution_count": 52,
   "metadata": {},
   "outputs": [
    {
     "name": "stdout",
     "output_type": "stream",
     "text": [
      "Wall time: 277 ms\n"
     ]
    },
    {
     "data": {
      "text/plain": [
       "GradientBoostingClassifier(criterion='friedman_mse', init=None,\n",
       "              learning_rate=0.1, loss='deviance', max_depth=3,\n",
       "              max_features=None, max_leaf_nodes=None,\n",
       "              min_impurity_decrease=0.0, min_impurity_split=None,\n",
       "              min_samples_leaf=1, min_samples_split=2,\n",
       "              min_weight_fraction_leaf=0.0, n_estimators=100,\n",
       "              n_iter_no_change=None, presort='auto', random_state=None,\n",
       "              subsample=1.0, tol=0.0001, validation_fraction=0.1,\n",
       "              verbose=0, warm_start=False)"
      ]
     },
     "execution_count": 52,
     "metadata": {},
     "output_type": "execute_result"
    }
   ],
   "source": [
    "%%time\n",
    "gbdt.fit(X_res, y_res)"
   ]
  },
  {
   "cell_type": "code",
   "execution_count": 54,
   "metadata": {},
   "outputs": [
    {
     "name": "stdout",
     "output_type": "stream",
     "text": [
      "0.7310800881704629\n"
     ]
    }
   ],
   "source": [
    "y_model_pred = gbdt.predict(X_test)\n",
    "print(gbdt.score(X_test, y_test))"
   ]
  },
  {
   "cell_type": "code",
   "execution_count": 55,
   "metadata": {},
   "outputs": [
    {
     "data": {
      "image/png": "[encoded data removed]",
      "text/plain": [
       "<Figure size 576x576 with 1 Axes>"
      ]
     },
     "metadata": {
      "needs_background": "light"
     },
     "output_type": "display_data"
    },
    {
     "name": "stdout",
     "output_type": "stream",
     "text": [
      "Sensitivity: 0.6809045226130653\n",
      "Specificity: 0.7518172377985463\n"
     ]
    }
   ],
   "source": [
    "#Show Confusion Matrix\n",
    "conf_mat_tree = cf(y_test, y_model_pred)\n",
    "scm.show_confusion_matrix(conf_mat_tree)"
   ]
  },
  {
   "cell_type": "markdown",
   "metadata": {},
   "source": [
    "We have slightly better precision here "
   ]
  },
  {
   "cell_type": "markdown",
   "metadata": {},
   "source": [
    "# Recommendations:\n",
    "\n",
    "1. Using a time invariate version of the class label would help in the sample sizing of our data. (Less imbalance) \n",
    "2. Using more features -- consider using the actual vendors as an ordinal feature \n",
    "3. Consider using more types of models or even deep learning models\n",
    "4. Use more data and update the splits to include a back test split (80% train set, 10% test, 10% backtest)"
   ]
  },
  {
   "cell_type": "code",
   "execution_count": null,
   "metadata": {},
   "outputs": [],
   "source": []
  },
  {
   "cell_type": "code",
   "execution_count": null,
   "metadata": {},
   "outputs": [],
   "source": []
  }
 ],
 "metadata": {
  "kernelspec": {
   "display_name": "Python 3",
   "language": "python",
   "name": "python3"
  },
  "language_info": {
   "codemirror_mode": {
    "name": "ipython",
    "version": 3
   },
   "file_extension": ".py",
   "mimetype": "text/x-python",
   "name": "python",
   "nbconvert_exporter": "python",
   "pygments_lexer": "ipython3",
   "version": "3.7.6"
  }
 },
 "nbformat": 4,
 "nbformat_minor": 2
}
